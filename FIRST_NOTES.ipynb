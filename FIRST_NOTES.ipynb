{
  "nbformat": 4,
  "nbformat_minor": 0,
  "metadata": {
    "colab": {
      "provenance": [],
      "toc_visible": true,
      "authorship_tag": "ABX9TyP83qCKXLbbET+H1L5wIeAI",
      "include_colab_link": true
    },
    "kernelspec": {
      "name": "python3",
      "display_name": "Python 3"
    },
    "language_info": {
      "name": "python"
    }
  },
  "cells": [
    {
      "cell_type": "markdown",
      "metadata": {
        "id": "view-in-github",
        "colab_type": "text"
      },
      "source": [
        "<a href=\"https://colab.research.google.com/github/dejanajeremic27/PythonHomeworks/blob/main/FIRST_NOTES.ipynb\" target=\"_parent\"><img src=\"https://colab.research.google.com/assets/colab-badge.svg\" alt=\"Open In Colab\"/></a>"
      ]
    },
    {
      "cell_type": "markdown",
      "source": [
        "1. Creating an ndarray from a List"
      ],
      "metadata": {
        "id": "CfrC5c8ugTjn"
      }
    },
    {
      "cell_type": "code",
      "execution_count": 1,
      "metadata": {
        "colab": {
          "base_uri": "https://localhost:8080/"
        },
        "id": "HowJbSWZfvFX",
        "outputId": "d0cc5851-b4a4-442f-d854-f6169b3d423c"
      },
      "outputs": [
        {
          "output_type": "stream",
          "name": "stdout",
          "text": [
            "Array a: [10 20 30]\n",
            "ndim: 1\n",
            "shape: (3,)\n",
            "size: 3\n",
            "dtype: int64\n"
          ]
        }
      ],
      "source": [
        "import numpy as np\n",
        "\n",
        "# A simple list\n",
        "a = np.array([10, 20, 30])\n",
        "print(\"Array a:\", a)\n",
        "print(\"ndim:\", a.ndim)     # Number of dimensions (axes) → 1\n",
        "print(\"shape:\", a.shape)   # Shape of array → (3,)\n",
        "print(\"size:\", a.size)     # Total number of elements → 3\n",
        "print(\"dtype:\", a.dtype)   # Data type of elements → int64 (or int32 on some systems)\n"
      ]
    },
    {
      "cell_type": "markdown",
      "source": [
        "numpy:\n",
        "This is the name of the library you’re importing.\n",
        "NumPy is a popular library for numerical computing in Python. It provides support for large, multi-dimensional arrays, matrices, and mathematical functions to operate on them.\n",
        "as np:\n",
        "This part of the statement is optional but commonly used.\n",
        "It creates an alias for the library (here, we are using np as the alias for numpy).\n",
        "Using the alias makes it quicker to call functions from NumPy. Instead of writing numpy.array(), you can just write np.array()."
      ],
      "metadata": {
        "id": "6r3q4c2bf81R"
      }
    },
    {
      "cell_type": "markdown",
      "source": [
        " Creating a 2D ndarray from a List of Lists"
      ],
      "metadata": {
        "id": "0rxAyJKogkSe"
      }
    },
    {
      "cell_type": "code",
      "source": [
        "print(\"Array b:\\n\", b)\n",
        "print(\"ndim:\", b.ndim)     # → 2\n",
        "print(\"shape:\", b.shape)   # → (2, 3) (2 rows, 3 columns)\n",
        "print(\"size:\", b.size)     # → 6 elements\n",
        "print(\"dtype:\", b.dtype)   # → int64 (or platform-specific)\n"
      ],
      "metadata": {
        "id": "FE8y6VxagCAR"
      },
      "execution_count": null,
      "outputs": []
    },
    {
      "cell_type": "markdown",
      "source": [
        "her Ways to Initialize\n",
        "\n",
        "zeroes and ones are other way to initialize arrays with all 0 or all 1 elements, given the shape\n",
        "\n",
        "The dtype is a special attribute that can be passed to the creation of arrays and specifies the type of data each element of the array will use:"
      ],
      "metadata": {
        "id": "c5mTnDxLhGH1"
      }
    },
    {
      "cell_type": "code",
      "source": [
        "a0 = np.zeros((4,10), dtype=int)\n",
        "a1 = np.ones((2, 3, 4))\n",
        "print(a0)\n",
        "print(a1)\n",
        "a11 = np.ones((2, 3, 4), dtype=np.int16)\n",
        "print(a11)"
      ],
      "metadata": {
        "id": "hft6aUR8hHPd"
      },
      "execution_count": null,
      "outputs": []
    },
    {
      "cell_type": "markdown",
      "source": [
        "ARITHMETIC OPERATIONS ON NUMPY\n",
        "A) VECTORIZATION"
      ],
      "metadata": {
        "id": "vh-ZT799hZN9"
      }
    },
    {
      "cell_type": "code",
      "source": [
        "#vectorization\n",
        "\n",
        "import numpy as np\n",
        "\n",
        "arr1 = np.array([1, 2, 3])\n",
        "arr2 = np.array([4, 5, 6])\n",
        "\n",
        "result = arr1 + arr2  # Element-wise addition\n",
        "print(result)  # [5 7 9]\n",
        "\n",
        "#broadcasting\n",
        "\n",
        "import numpy as np\n",
        "\n",
        "arr = np.array([1, 2, 3])\n",
        "result = arr + 5  # Add 5 to every element of the array\n",
        "\n",
        "print(result)  # [6 7 8]\n",
        "\n",
        "arr3 = np.array([1, 2, 3, 4])\n",
        "\n",
        "# Multiply every element by 2 (scalar multiplication)\n",
        "result = arr3 * 2\n",
        "print(result)  # Output: [2 4 6 8]\n",
        "\n",
        "# Add 10 to every element\n",
        "result = arr3 + 10\n",
        "print(result)  # Output: [11 12 13 14]\n",
        "\n",
        "\n"
      ],
      "metadata": {
        "colab": {
          "base_uri": "https://localhost:8080/"
        },
        "id": "uOjjT738hYnY",
        "outputId": "711857ec-1ce5-40b4-8c14-2d0b05c3efcf"
      },
      "execution_count": 2,
      "outputs": [
        {
          "output_type": "stream",
          "name": "stdout",
          "text": [
            "[5 7 9]\n"
          ]
        }
      ]
    },
    {
      "cell_type": "markdown",
      "source": [
        "INDEXING AND SLICING"
      ],
      "metadata": {
        "id": "HBO8OKq1ihxx"
      }
    },
    {
      "cell_type": "code",
      "source": [
        "#If you have a multi-dimensional array, you can access elements by using square brackets and comma-separated values.\n",
        "import numpy as np\n",
        "\n",
        "# Create a 2D array (like a matrix)\n",
        "arr = np.array([[1, 2, 3], [4, 5, 6], [7, 8, 9]])\n",
        "\n",
        "# Access the element in the first row, second column\n",
        "print(arr[0, 1])  # Output: 2\n"
      ],
      "metadata": {
        "id": "hhfcb6sBieQZ"
      },
      "execution_count": null,
      "outputs": []
    },
    {
      "cell_type": "markdown",
      "source": [
        "BOLEAN INDEXING\n",
        "oolean indexing is a powerful feature in NumPy that allows you to use an array of True/False values (a Boolean array) to select elements from another array.\n",
        "\n",
        "When you apply a Boolean condition (like a > 5), it creates an array of True or False values based on whether each element satisfies the condition."
      ],
      "metadata": {
        "id": "f0MD2_pTjaKm"
      }
    },
    {
      "cell_type": "code",
      "source": [
        "import numpy as np\n",
        "\n",
        "# Create a 1D array\n",
        "a = np.array([1, 3, 5, 7, 9])\n",
        "\n",
        "# Create a Boolean array by applying a condition\n",
        "b = a > 5  # This will create a Boolean array based on the condition 'a > 5'\n",
        "print(b)  # Output: [False False False  True  True]\n"
      ],
      "metadata": {
        "id": "zsmfdT3EjeRn"
      },
      "execution_count": null,
      "outputs": []
    },
    {
      "cell_type": "markdown",
      "source": [
        "\n",
        "What is Fancy Indexing?\n",
        "Fancy indexing (also known as integer array indexing) is a way to index an array using another array of integers or lists of indices to extract specific elements, rows, columns, or subarrays from a NumPy array.\n",
        "\n",
        "Fancy indexing allows you to access multiple elements from the array simultaneously (not just one element at a time) by specifying multiple indices in one go. This is much more flexible than standard indexing, as it can allow for accessing non-contiguous elements."
      ],
      "metadata": {
        "id": "xndqa82qj4PA"
      }
    },
    {
      "cell_type": "code",
      "source": [
        "import numpy as np\n",
        "\n",
        "# Create a 1D array\n",
        "a = np.array([10, 20, 30, 40, 50])\n",
        "\n",
        "# Use fancy indexing to select multiple elements\n",
        "indices = [0, 2, 4]\n",
        "result = a[indices]\n",
        "\n",
        "print(result)  # Output: [10 30 50]\n",
        "# Create a 2D array (2 rows, 4 columns)\n",
        "a = np.array([[10, 20, 30, 40],\n",
        "              [50, 60, 70, 80]])\n",
        "\n",
        "# Use fancy indexing to select rows 0 and 1, and columns 1 and 3\n",
        "result = a[[0, 1], [1, 3]]\n",
        "\n",
        "print(result)  # Output: [20 80]\n"
      ],
      "metadata": {
        "id": "RJ7iXOIdjgyB"
      },
      "execution_count": null,
      "outputs": []
    },
    {
      "cell_type": "markdown",
      "source": [
        "LINEAR ALGEBRA\n",
        "\n",
        "The transpose of a matrix is created by swapping its rows and columns. In simple words:\n",
        "\n",
        "The first row becomes the first column.\n",
        "The second row becomes the second column.\n",
        "And so on.\n"
      ],
      "metadata": {
        "id": "ZMYmAUr3kfhp"
      }
    },
    {
      "cell_type": "code",
      "source": [
        "import numpy as np\n",
        "\n",
        "A = np.array([[1, 2, 3], [4, 5, 6]])\n",
        "A_T = A.T  # Transpose of A\n",
        "print(A_T)\n"
      ],
      "metadata": {
        "id": "NX7Pw-Lkkd7C"
      },
      "execution_count": null,
      "outputs": []
    },
    {
      "cell_type": "markdown",
      "source": [
        "The dot product (or matrix multiplication) is one of the most important operations in linear algebra, particularly in machine learning models like neural networks. It is used to combine two matrices in a specific way.\n",
        "\n",
        "For two matrices A and B, the dot product is calculated as:\n",
        "\n",
        "Each element of the resulting matrix is computed as the sum of the products of corresponding elements from the rows of A and the columns of B.\n"
      ],
      "metadata": {
        "id": "URNw4KLwkyfs"
      }
    },
    {
      "cell_type": "code",
      "source": [
        "import numpy as np\n",
        "\n",
        "A = np.array([[1, 2, 3], [4, 5, 6]])\n",
        "B = np.array([[7, 8], [9, 10], [11, 12]])\n",
        "\n",
        "result = np.dot(A, B)  # Or you can use A @ B\n",
        "print(result)\n"
      ],
      "metadata": {
        "colab": {
          "base_uri": "https://localhost:8080/"
        },
        "id": "p3cHp10akzl-",
        "outputId": "48623baf-0acb-48fd-f83d-439cb79b0199"
      },
      "execution_count": 4,
      "outputs": [
        {
          "output_type": "stream",
          "name": "stdout",
          "text": [
            "[[ 58  64]\n",
            " [139 154]]\n"
          ]
        }
      ]
    },
    {
      "cell_type": "markdown",
      "source": [
        "3. Inverse of a Matrix\n",
        "The inverse of a matrix is another fundamental concept in linear algebra. It is the matrix that, when multiplied by the original matrix, results in the identity matrix. The identity matrix is a square matrix with 1s on the diagonal and 0s everywhere else:"
      ],
      "metadata": {
        "id": "uRZETyS0lD9Y"
      }
    },
    {
      "cell_type": "code",
      "source": [
        "import numpy as np\n",
        "\n",
        "A = np.array([[1, 2], [3, 4]])\n",
        "\n",
        "A_inv = np.linalg.inv(A)\n",
        "print(A_inv)\n"
      ],
      "metadata": {
        "id": "Y0-nEZPElFC5"
      },
      "execution_count": null,
      "outputs": []
    },
    {
      "cell_type": "markdown",
      "source": [
        "DATA VISUALIZATION"
      ],
      "metadata": {
        "id": "PXQF2UWWls10"
      }
    },
    {
      "cell_type": "code",
      "source": [
        "import matplotlib.pylab as plt\n",
        "x = y = list(range(100))\n",
        "y2 = list(range(0, 200, 2))\n",
        "y3 = list(range(0 ,300, 3))\n",
        "plt.plot(x, y)\n",
        "plt.plot(x, y2)\n",
        "plt.plot(x, y3)\n",
        "\n",
        "plt.show()\n",
        "\n",
        "\n"
      ],
      "metadata": {
        "id": "PMGqE-Ymlu06"
      },
      "execution_count": null,
      "outputs": []
    },
    {
      "cell_type": "markdown",
      "source": [],
      "metadata": {
        "id": "m0haCotolyoF"
      }
    },
    {
      "cell_type": "code",
      "source": [
        "import matplotlib.pylab as plt\n",
        "import random\n",
        "x = list(range(100))\n",
        "y = list(range(100))\n",
        "random.shuffle(y)\n",
        "\n",
        "print(y)\n",
        "plt.figure(figsize=(5,5))\n",
        "plt.plot(x, y)\n",
        "\n",
        "plt.show()\n",
        "\n"
      ],
      "metadata": {
        "colab": {
          "base_uri": "https://localhost:8080/",
          "height": 482
        },
        "id": "f-2LZr6QlzLf",
        "outputId": "f68f1187-d535-48a4-84d2-a6885e73b9c1"
      },
      "execution_count": 5,
      "outputs": [
        {
          "output_type": "stream",
          "name": "stdout",
          "text": [
            "[79, 65, 54, 77, 5, 66, 51, 37, 35, 40, 15, 6, 70, 32, 86, 59, 30, 73, 20, 60, 39, 84, 19, 10, 2, 69, 52, 92, 21, 31, 17, 99, 67, 13, 68, 47, 83, 11, 16, 42, 88, 93, 3, 34, 1, 44, 87, 24, 55, 76, 90, 7, 43, 23, 53, 33, 56, 4, 72, 78, 94, 50, 41, 74, 97, 27, 22, 8, 96, 71, 0, 38, 98, 89, 14, 36, 95, 45, 49, 28, 9, 12, 63, 75, 85, 26, 25, 58, 91, 18, 80, 29, 81, 62, 61, 64, 46, 82, 57, 48]\n"
          ]
        },
        {
          "output_type": "display_data",
          "data": {
            "text/plain": [
              "<Figure size 500x500 with 1 Axes>"
            ],
            "image/png": "[encoded data removed]"
          },
          "metadata": {}
        }
      ]
    },
    {
      "cell_type": "code",
      "source": [
        "import matplotlib.pylab as plt\n",
        "import random\n",
        "x = list(range(100))\n",
        "y = list(range(100))\n",
        "random.shuffle(y)\n",
        "\n",
        "print(y)\n",
        "plt.figure(figsize=(5,5))\n",
        "plt.plot(x, y)\n",
        "\n",
        "plt.show()\n"
      ],
      "metadata": {
        "id": "zznTS-Del502"
      },
      "execution_count": null,
      "outputs": []
    }
  ]
}